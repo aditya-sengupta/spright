{
 "cells": [
  {
   "cell_type": "markdown",
   "metadata": {},
   "source": [
    "# Aim\n",
    "\n",
    "A full implementation of the SPRIGHT algorithm, as in [2]."
   ]
  },
  {
   "cell_type": "code",
   "execution_count": 24,
   "metadata": {},
   "outputs": [],
   "source": [
    "import numpy as np\n",
    "from matplotlib import pyplot as plt\n",
    "%matplotlib inline"
   ]
  },
  {
   "cell_type": "code",
   "execution_count": 25,
   "metadata": {},
   "outputs": [],
   "source": [
    "def fwht(x):\n",
    "    \"\"\"Recursive implementation of the 1D Cooley-Tukey FFT\"\"\"\n",
    "    # x = np.asarray(x, dtype=float)\n",
    "    N = x.shape[0]\n",
    "    if N == 1:\n",
    "        return x\n",
    "    else:\n",
    "        X_even = fwht(x[0:(N//2)])\n",
    "        X_odd = fwht(x[(N//2):])\n",
    "        return np.concatenate([(X_even + X_odd),\n",
    "                               (X_even - X_odd)])\n",
    "    \n",
    "def bin_to_dec(x):\n",
    "    n = len(x)\n",
    "    c = 2**(np.arange(n)[::-1])\n",
    "    return c.dot(x).astype(np.int)\n",
    "\n",
    "def dec_to_bin(x, num_bits):\n",
    "    assert x < 2**num_bits, \"number of bits are not enough\"\n",
    "    u = bin(x)[2:].zfill(num_bits)\n",
    "    u = list(u)\n",
    "    u = [int(i) for i in u]\n",
    "    return np.array(u)\n",
    "\n",
    "def binary_ints(n):\n",
    "    '''\n",
    "    Returns a matrix where row 'i' is dec_to_bin(i, n), for i from 0 to 2 ** n - 1.\n",
    "    https://stackoverflow.com/questions/28111051/create-a-matrix-of-binary-representation-of-numbers-in-python\n",
    "    '''\n",
    "    a = np.arange(2 ** n, dtype=int)[np.newaxis,:]\n",
    "    b = np.arange(n, dtype=int)[::-1,np.newaxis]\n",
    "    return np.array(a & 2**b > 0, dtype=int)"
   ]
  },
  {
   "cell_type": "code",
   "execution_count": 26,
   "metadata": {},
   "outputs": [],
   "source": [
    "def make_input_signal(n, loc, strengths, noise_sd):\n",
    "    '''\n",
    "    Arguments\n",
    "    ---------\n",
    "    n : int\n",
    "    number of bits\n",
    "    \n",
    "    loc : iterable\n",
    "    Locations of peaks in the W-H spectrum. Elements must be integers in [0, 2 ** n - 1].\n",
    "    \n",
    "    strengths : iterable\n",
    "    The strength of each peak in the W-H spectrum. Defaults to all 1s. Dimension has to match that of loc.\n",
    "    \n",
    "    noise_sd : scalar\n",
    "    The SD of the added noise.\n",
    "    \n",
    "    Returns\n",
    "    -------\n",
    "    input_signal : numpy.ndarray\n",
    "    The time signal.\n",
    "    \n",
    "    input_wht : numpy.ndarray\n",
    "    The WHT of input_signal.\n",
    "    '''\n",
    "    N = 2 ** n\n",
    "    if strengths is None:\n",
    "        strengths = np.ones_like(loc)\n",
    "    input_wht = np.zeros((N,))\n",
    "    for l, s in zip(loc, strengths):\n",
    "        input_wht[l] = s\n",
    "    input_signal = fwht(input_wht) + np.random.normal(0, noise_sd, (N,))\n",
    "    return input_signal, fwht(input_signal) / N\n",
    "\n",
    "class InputSignal:\n",
    "    def __init__(self, n, loc, strengths=None, noise_sd=0):\n",
    "        self.n = n\n",
    "        self.noise_sd = noise_sd\n",
    "        self.signal_t, self.signal_w = make_input_signal(n, loc, strengths, noise_sd)\n"
   ]
  },
  {
   "cell_type": "code",
   "execution_count": 27,
   "metadata": {},
   "outputs": [
    {
     "data": {
      "image/png": "[encoded data removed]",
      "text/plain": [
       "<Figure size 720x216 with 2 Axes>"
      ]
     },
     "metadata": {
      "needs_background": "light"
     },
     "output_type": "display_data"
    }
   ],
   "source": [
    "# make signal and plot it\n",
    "input_signal = InputSignal(4, [4, 6, 10, 15], strengths=[2, 4, 1, 1], noise_sd=0.01)\n",
    "noiseless_signal = InputSignal(4, [4, 6, 10, 15], strengths=[2, 4, 1, 1], noise_sd=0)\n",
    "fig, axs = plt.subplots(1,2, figsize=(10,3))\n",
    "\n",
    "axs[0].stem(input_signal.signal_w, use_line_collection=True)\n",
    "axs[0].set_title('WHT')\n",
    "\n",
    "axs[1].plot(input_signal.signal_t)\n",
    "axs[1].set_title('time')\n",
    "plt.show()"
   ]
  },
  {
   "cell_type": "code",
   "execution_count": 28,
   "metadata": {},
   "outputs": [],
   "source": [
    "def subsample_indices(b, M, d):\n",
    "    '''\n",
    "    Query generator: creates indices for signal subsamples.\n",
    "    \n",
    "    Arguments\n",
    "    ---------\n",
    "    b : int\n",
    "    The subsampling coefficient; subject to b <= n = log2(N).\n",
    "    \n",
    "    M : numpy.ndarray, shape (n, b)\n",
    "    The subsampling matrix; takes on binary values.\n",
    "    \n",
    "    d : numpy.ndarray, shape (n,)\n",
    "    The subsampling offset; takes on binary values.\n",
    "    \n",
    "    Returns\n",
    "    -------\n",
    "    indices : numpy.ndarray, shape (B,)\n",
    "    The (decimal) subsample indices. Mostly for debugging purposes.\n",
    "    \n",
    "    subsamples : numpy.ndarray, shape (B,)\n",
    "    The subsampled time signal.\n",
    "    '''\n",
    "    B = 2 ** b\n",
    "    L = binary_ints(b)\n",
    "    indices = bin_to_dec(np.mod(np.dot(M, L).T + d, 2).T)\n",
    "    return indices"
   ]
  },
  {
   "cell_type": "code",
   "execution_count": 29,
   "metadata": {},
   "outputs": [],
   "source": [
    "# implementing the example in the paper section 2.2\n",
    "\n",
    "M1 = np.vstack((np.zeros((2,2)), np.eye(2)))\n",
    "M2 = np.vstack((np.eye(2), np.zeros((2,2))))"
   ]
  },
  {
   "cell_type": "code",
   "execution_count": 30,
   "metadata": {},
   "outputs": [],
   "source": [
    "# check linear combinations of subsampling\n",
    "M1_subsampled_wht = fwht(input_signal.signal_t[subsample_indices(2, M1, np.zeros(4,))]) / 4\n",
    "assert np.allclose(M1_subsampled_wht, np.array([np.sum([input_signal.signal_w[i::4]]) for i in range(4)]))"
   ]
  },
  {
   "cell_type": "code",
   "execution_count": 31,
   "metadata": {},
   "outputs": [],
   "source": [
    "def singleton_detection_noiseless(U_slice):\n",
    "    '''\n",
    "    Finds the true index of a singleton, assuming that it is one.\n",
    "    Works on a fixed M, and assumes P = n + 1 and D = [0; I]\n",
    "    \n",
    "    Arguments\n",
    "    ---------\n",
    "    U_slice : numpy.ndarray, (P,).\n",
    "    The WHT component of the subsampled bin we care about, at diff delays.\n",
    "    d[0] is the zero array, I think (is this necessary? probably)\n",
    "    \n",
    "    Returns\n",
    "    -------\n",
    "    k : numpy.ndarray\n",
    "    Index of the corresponding right node, in binary form.\n",
    "    '''\n",
    "    return (-np.sign(U_slice * U_slice[0])[1:]/2 + 1/2).astype(np.int)\n",
    "\n",
    "def singleton_detection(U_slice, selection, S, n):\n",
    "    '''\n",
    "    TODO: \n",
    "    - what are the input variables (comment)\n",
    "    - what is returned\n",
    "    \n",
    "    As in singleton_detection_noiseless, but with noise.\n",
    "    Also returns the sign of the coefficient (as in [2] eq 22.)\n",
    "    \n",
    "    S is only the subset that could be valid, i.e. where M.T @ S = i.\n",
    "    '''\n",
    "    P = S.shape[0]\n",
    "    alphas = (1/P) * np.dot(S.T, U_slice)\n",
    "    residuals = np.linalg.norm(U_slice - (alphas * S).T, ord=2, axis=1)\n",
    "    k = np.argmin(residuals)\n",
    "    return dec_to_bin(selection[k], n), np.sign(alphas[k])"
   ]
  },
  {
   "cell_type": "code",
   "execution_count": 32,
   "metadata": {},
   "outputs": [],
   "source": [
    "D = np.vstack((np.zeros(4,), np.eye(4)))\n",
    "all_delay_subsamples = np.array([input_signal.signal_t[subsample_indices(2, M1, D[i])] for i in range(5)])\n",
    "all_delay_fwht = np.array([fwht(row) for row in all_delay_subsamples])"
   ]
  },
  {
   "cell_type": "code",
   "execution_count": 33,
   "metadata": {},
   "outputs": [
    {
     "data": {
      "text/plain": [
       "array([[ 8.02112184e+00,  9.19434598e-03,  2.00325922e+01,\n",
       "         3.99585382e+00],\n",
       "       [ 8.01791185e+00, -1.50235490e-02,  1.20055307e+01,\n",
       "        -3.99834713e+00],\n",
       "       [-7.97038448e+00, -1.34593863e-02, -1.19745510e+01,\n",
       "        -4.02814046e+00],\n",
       "       [ 8.02112184e+00,  9.19434598e-03, -2.00325922e+01,\n",
       "        -3.99585382e+00],\n",
       "       [ 8.02112184e+00, -9.19434598e-03,  2.00325922e+01,\n",
       "        -3.99585382e+00]])"
      ]
     },
     "execution_count": 33,
     "metadata": {},
     "output_type": "execute_result"
    }
   ],
   "source": [
    "all_delay_fwht"
   ]
  },
  {
   "cell_type": "code",
   "execution_count": 34,
   "metadata": {},
   "outputs": [
    {
     "data": {
      "text/plain": [
       "(array([0, 1, 0, 0]), 1.0)"
      ]
     },
     "execution_count": 34,
     "metadata": {},
     "output_type": "execute_result"
    }
   ],
   "source": [
    "S_test = (-1) ** (D @ binary_ints(input_signal.n))\n",
    "selection_test = [0, 4, 8, 12]\n",
    "singleton_detection(all_delay_fwht[:,0], selection_test, S_test[:, selection_test], input_signal.n) # should be 0, 1, 0, 0"
   ]
  },
  {
   "cell_type": "code",
   "execution_count": 35,
   "metadata": {},
   "outputs": [],
   "source": [
    "def compute_delayed_wht(signal, b, M, num_delays, force_identity_like=False):\n",
    "    '''\n",
    "    Helper function for bin_cardinality. Creates random delays, subsamples according to M and the random delays,\n",
    "    and returns the subsample WHT along with the delays.\n",
    "    '''\n",
    "    if num_delays is None:\n",
    "        num_delays = signal.n + 1\n",
    "    if signal.noise_sd > 0:\n",
    "        if not force_identity_like:\n",
    "            # choices = np.random.choice(2 ** signal.n, num_delays, replace=False)\n",
    "            choices = np.concatenate(([0], 1 + np.random.choice(2 ** signal.n - 1, num_delays - 1, replace=False)))\n",
    "        else:\n",
    "            choices = np.array([0] + [2 ** i for i in range(signal.n)])\n",
    "        D = np.array([dec_to_bin(x, signal.n) for x in choices])\n",
    "    else:\n",
    "        D = np.vstack((np.zeros(signal.n,), np.eye(signal.n)))\n",
    "    samples_to_transform = signal.signal_t[np.array([subsample_indices(b, M, d) for d in D])] # subsample to allow small WHTs\n",
    "    U = np.array([fwht(row) for row in samples_to_transform]) # compute the small WHTs\n",
    "    return U, D\n",
    "\n",
    "def bin_cardinality(signal, M, num_delays=None):\n",
    "    '''\n",
    "    Computes delayed WHT observations and declares cardinality based on that.\n",
    "    2 is a stand-in for any cardinality > 1. (Bad design, but I can't think\n",
    "    of a better way)\n",
    "    \n",
    "    Arguments\n",
    "    ---------\n",
    "    signal : InputSignal\n",
    "    The input signal object.\n",
    "\n",
    "    b : int\n",
    "    M : numpy.ndarray\n",
    "    \n",
    "    As in the signature to subsample_indices.\n",
    "    \n",
    "    num_delays : int\n",
    "    The number of delays to apply; or, the number of rows in the delays matrix.\n",
    "\n",
    "    Returns\n",
    "    -------\n",
    "    cardinality : numpy.ndarray\n",
    "    0 or 1 if the bin is a zeroton or singleton resp.; 2 if multiton.\n",
    "    \n",
    "    singleton_indices : list\n",
    "    A list (in decimal form for compactness) of the k values of the singletons. \n",
    "    Length matches the number of 1s in cardinality.\n",
    "    '''\n",
    "    b = M.shape[1]\n",
    "    if num_delays is None:\n",
    "        num_delays = signal.n + 1\n",
    "    U, D = compute_delayed_wht(signal, b, M, num_delays)\n",
    "    cardinality = np.ones((signal.n,), dtype=np.int) # vector of indicators\n",
    "    singleton_indices = []\n",
    "    cutoff = 2 * signal.noise_sd ** 2 * (2 ** (signal.n - b)) * num_delays\n",
    "    if signal.noise_sd > 0:\n",
    "        K = binary_ints(signal.n)\n",
    "        S = (-1) ** (D @ K)\n",
    "    for i, col in enumerate(U.T):\n",
    "        sgn = 1\n",
    "        print(\"Column:   \", col)\n",
    "        # <col, col> = |col|^2 = |U|^2\n",
    "        if np.inner(col, col) <= cutoff:\n",
    "            cardinality[i] = 0\n",
    "        else:\n",
    "            if signal.noise_sd == 0:\n",
    "                k = singleton_detection_noiseless(col)\n",
    "            else:\n",
    "                selection = np.where([bin_to_dec(row) == i for row in (M.T.dot(K)).T])[0]\n",
    "                k, sgn = singleton_detection(col, selection, S[:, selection], signal.n)\n",
    "            rho = np.mean(np.abs(col))\n",
    "            residual = col - sgn * rho * (-1) ** np.dot(D, k)\n",
    "            print(\"Residual: \", residual)\n",
    "            if np.inner(residual, residual) > cutoff:\n",
    "                cardinality[i] = 2\n",
    "            else:\n",
    "                singleton_indices.append(bin_to_dec(k))\n",
    "                print(\"Slice {0} has k = {1}\".format(i, k))\n",
    "    return cardinality, singleton_indices\n"
   ]
  },
  {
   "cell_type": "code",
   "execution_count": 36,
   "metadata": {
    "scrolled": true
   },
   "outputs": [
    {
     "name": "stdout",
     "output_type": "stream",
     "text": [
      "Column:    [ 8.02112184 -8.03538548 -8.03538548 -8.03538548 -7.97038448]\n",
      "Residual:  [ 0.00158929 -0.01585293 -0.01585293 -0.01585293  0.04914807]\n",
      "Slice 0 has k = [0 1 0 0]\n",
      "Column:    [ 0.00919435 -0.02309885 -0.02309885  0.02309885 -0.01345939]\n",
      "Column:    [ 20.03259219  19.99346254 -19.99346254 -19.99346254  11.97455105]\n",
      "Residual:  [ 1.63508602  1.59595637 -1.59595637 -1.59595637 -6.42295512]\n",
      "Column:    [ 3.99585382  4.0117677  -4.0117677   4.0117677   4.02814046]\n",
      "Residual:  [-1.60056549e-02 -9.17772630e-05  9.17772630e-05 -9.17772630e-05\n",
      "  1.62809867e-02]\n",
      "Slice 3 has k = [1 1 1 1]\n"
     ]
    },
    {
     "data": {
      "text/plain": [
       "(array([1, 0, 2, 1]), [4, 15])"
      ]
     },
     "execution_count": 36,
     "metadata": {},
     "output_type": "execute_result"
    }
   ],
   "source": [
    "bin_cardinality(input_signal, M1) # should be 1, 0, 2, 1; [4, 15]"
   ]
  },
  {
   "cell_type": "code",
   "execution_count": 37,
   "metadata": {},
   "outputs": [
    {
     "name": "stdout",
     "output_type": "stream",
     "text": [
      "Column:    [ 0.0220793  -0.01488046  0.0296072  -0.01488046 -0.0035423 ]\n",
      "Column:    [24.01233772 -7.98299617 24.01313232  7.98299617 -7.99767023]\n",
      "Residual:  [ 9.6145112   6.41483035  9.6153058  -6.41483035  6.40015629]\n",
      "Column:    [4.01403411 4.00278223 4.04305789 4.00278223 3.98609879]\n",
      "Residual:  [ 0.00428306 -0.00696882  0.03330684 -0.00696882 -0.02365226]\n",
      "Slice 2 has k = [1 0 1 0]\n",
      "Column:    [ 4.01031107 -3.97584798 -4.03713156  3.97584798  4.01081851]\n",
      "Residual:  [ 0.00831965  0.02614344 -0.03514014 -0.02614344  0.00882709]\n",
      "Slice 3 has k = [1 1 1 1]\n"
     ]
    },
    {
     "data": {
      "text/plain": [
       "(array([0, 2, 1, 1]), [10, 15])"
      ]
     },
     "execution_count": 37,
     "metadata": {},
     "output_type": "execute_result"
    }
   ],
   "source": [
    "bin_cardinality(input_signal, M2) # should be 0, 2, 1, 1; [10, 15]"
   ]
  },
  {
   "cell_type": "code",
   "execution_count": 38,
   "metadata": {},
   "outputs": [
    {
     "data": {
      "text/plain": [
       "(array([[ 8.02112184e+00,  9.19434598e-03,  2.00325922e+01,\n",
       "          3.99585382e+00],\n",
       "        [ 8.01791185e+00, -1.50235490e-02, -1.20055307e+01,\n",
       "          3.99834713e+00],\n",
       "        [ 8.01791185e+00, -1.50235490e-02,  1.20055307e+01,\n",
       "         -3.99834713e+00],\n",
       "        [-8.03538548e+00,  2.30988498e-02, -1.99934625e+01,\n",
       "          4.01176770e+00],\n",
       "        [ 8.02112184e+00,  9.19434598e-03, -2.00325922e+01,\n",
       "         -3.99585382e+00]]),\n",
       " array([[0, 0, 0, 0],\n",
       "        [1, 0, 1, 0],\n",
       "        [1, 0, 0, 0],\n",
       "        [1, 1, 0, 0],\n",
       "        [0, 0, 1, 0]]))"
      ]
     },
     "execution_count": 38,
     "metadata": {},
     "output_type": "execute_result"
    }
   ],
   "source": [
    "compute_delayed_wht(input_signal, 2, M1, num_delays=None, force_identity_like=False)"
   ]
  },
  {
   "cell_type": "code",
   "execution_count": 39,
   "metadata": {},
   "outputs": [],
   "source": [
    "def decode(signal, Ms, num_delays=None, verbose=False):\n",
    "    '''\n",
    "    Full SPRIGHT decoding. Implements Algorithm 2 from [2].\n",
    "    (numbers) indicate equation numbers in [2].\n",
    "    \n",
    "    Arguments\n",
    "    ---------\n",
    "    signal : InputSignal object.\n",
    "    The signal to be transformed / compared to.\n",
    "    \n",
    "    Ms : list of ndarrays\n",
    "    List of 'M' matrices.\n",
    "    \n",
    "    num_delays : int\n",
    "    The number of delays to apply to each M (i.e. the number of rows in the delays matrix.)\n",
    "    The variable P in [2]. By default this is signal.n + 1.\n",
    "    \n",
    "    verbose : boolean\n",
    "    Whether to print intermediate steps.\n",
    "    \n",
    "    Returns\n",
    "    -------\n",
    "    wht : ndarray\n",
    "    The WHT constructed by subsampling and peeling.\n",
    "    '''\n",
    "\n",
    "    result = []\n",
    "    wht = np.zeros_like(signal.signal_t)\n",
    "    c = len(Ms)\n",
    "    b = Ms[0].shape[1]\n",
    "    Us, Ss = [], []\n",
    "    singletons = {}\n",
    "    multitons = []\n",
    "    if num_delays is None:\n",
    "        num_delays = signal.n + 1\n",
    "    K = binary_ints(signal.n)\n",
    "        \n",
    "    # subsample, make the observation [U] and delays [D] matrices\n",
    "    for M in Ms:\n",
    "        U, D = compute_delayed_wht(signal, b, M, num_delays, force_identity_like=False)\n",
    "        Us.append(U)\n",
    "        Ss.append((-1) ** (D @ K)) # offset signature matrix\n",
    "    \n",
    "    cutoff = 2 * signal.noise_sd ** 2 * (2 ** (signal.n - b)) * num_delays # noise threshold\n",
    "    if verbose:\n",
    "        print('cutoff: {}'.format(cutoff))\n",
    "    # K is the binary representation of all integers from 0 to 2 ** n - 1.\n",
    "    select_froms = np.array([[bin_to_dec(row) for row in M.T.dot(K).T] for M in Ms])\n",
    "    # `select_froms` is the collection of 'j' values and associated indices\n",
    "    # so that we can quickly choose from the coefficient locations such that M.T @ k = j as in (20)\n",
    "    # example: ball j goes to bin at \"select_froms[i][j]\"\" in stage i\n",
    "    \n",
    "    # begin peeling\n",
    "    # index convention for peeling: 'i' goes over all M/U/S values\n",
    "    # i.e. it refers to the index of the subsampling group (zero-indexed - off by one from the paper).\n",
    "    # 'j' goes over all columns of the WHT subsample matrix, going from 0 to 2 ** b - 1.\n",
    "    # e.g. (i, j) = (0, 2) refers to subsampling group 0, and aliased bin 2 (10 in binary)\n",
    "    # which in the example of section 3.2 is the multiton X[0110] + X[1010] + W1[10]\n",
    "    \n",
    "    # a multiton will just store the (i, j)s in a list\n",
    "    # a singleton will map from the (i, j)s to the true (binary) values k.\n",
    "    # e.g. the singleton (0, 0), which in the example of section 3.2 is X[0100] + W1[00]\n",
    "    # would be stored as the dictionary entry (0, 0): array([0, 1, 0, 0]).\n",
    "    \n",
    "    there_were_multitons = True\n",
    "    while there_were_multitons:\n",
    "        if verbose:\n",
    "            print('-----')\n",
    "            print('the measurement matrix')\n",
    "            for U in Us:\n",
    "                print(U)\n",
    "        \n",
    "        # first step: find all the singletons and multitons.\n",
    "        singletons = {} # dictionary from (i, j) values to the true index of the singleton, k.\n",
    "        multitons = [] # list of (i, j) values indicating where multitons are.\n",
    "        \n",
    "        for i, (U, S, select_from) in enumerate(zip(Us, Ss, select_froms)):\n",
    "            for j, col in enumerate(U.T):\n",
    "                # note that np.inner(x, x) is used as norm-squared: marginally faster than taking norm and squaring\n",
    "                if np.inner(col, col) > cutoff:\n",
    "                    selection = np.where(select_from == j)[0] # pick all the k such that M.T @ k = j\n",
    "                    k, sgn = singleton_detection(col, selection, S[:, selection], signal.n) # find the best fit singleton\n",
    "                    k_dec = bin_to_dec(k)\n",
    "                    rho = np.dot(S[:,k_dec], col)*sgn/len(col)                    \n",
    "                    residual = col - sgn * rho * S[:,k_dec] \n",
    "                    if verbose:\n",
    "                        print((i, j), np.inner(residual, residual))\n",
    "                    if np.inner(residual, residual) > cutoff:\n",
    "                        multitons.append((i, j))\n",
    "                    else: # declare as singleton\n",
    "                        singletons[(i, j)] = (k, rho, sgn)\n",
    "                        if verbose:\n",
    "                            print('amplitude: {}'.format(rho))\n",
    "                        \n",
    "        \n",
    "        # all singletons and multitons are discovered\n",
    "        if verbose:\n",
    "            print('singletons:')\n",
    "            for ston in singletons.items():\n",
    "                print(\"\\t{0} {1}\\n\".format(ston, bin_to_dec(ston[1][0])))\n",
    "\n",
    "            print(\"Multitons : {0}\\n\".format(multitons))\n",
    "        \n",
    "        # WARNING: this is not a correct thing to do\n",
    "        # in the last iteration of peeling, everything will be singletons and there\n",
    "        # will be no multitons\n",
    "        if len(multitons) == 0: # no more multitons, and can construct final WHT\n",
    "            there_were_multitons = False\n",
    "            \n",
    "        # balls to peel\n",
    "        balls_to_peel = set()\n",
    "        ball_values = {}\n",
    "        ball_sgn = {}\n",
    "        for (i, j) in singletons:\n",
    "            k, rho, sgn = singletons[(i, j)]\n",
    "            ball = bin_to_dec(k)\n",
    "            balls_to_peel.add(ball)\n",
    "            \n",
    "            ball_values[ball] = rho\n",
    "            ball_sgn[ball] = sgn\n",
    "            \n",
    "        if verbose:\n",
    "            print('these balls will be peeled')\n",
    "            print(balls_to_peel)\n",
    "        # peel\n",
    "        for ball in balls_to_peel:\n",
    "            k = dec_to_bin(ball, signal.n)\n",
    "            potential_peels = [(l, bin_to_dec(M.T.dot(k))) for l, M in enumerate(Ms)]\n",
    "\n",
    "            result.append((k, ball_sgn[ball]*ball_values[ball]))\n",
    "            \n",
    "            for peel in potential_peels:\n",
    "                signature_in_stage = Ss[peel[0]][:,ball]\n",
    "                to_subtract = ball_sgn[ball] * ball_values[ball] * signature_in_stage\n",
    "                Us[peel[0]][:,peel[1]] -= to_subtract\n",
    "                if verbose:\n",
    "                    print('this is subtracted:')\n",
    "                    print(to_subtract)\n",
    "                    print(\"Peeled ball {0} off bin {1}\".format(bin_to_dec(k), peel))\n",
    "        \n",
    "    for k, value in result: # iterating over (i, j)s\n",
    "        idx = bin_to_dec(k) # converting 'k's of singletons to decimals\n",
    "        if wht[idx] == 0:\n",
    "            wht[idx] = value\n",
    "        else:\n",
    "            wht[idx] = (wht[idx] + value) / 2 \n",
    "            # average out noise; e.g. in the example in 3.2, U1[11] and U2[11] are the same singleton,\n",
    "            # so averaging them reduces the effect of noise.\n",
    "    \n",
    "    wht /= 2 ** (signal.n / b) # should maybe be n - b? in the example it's n = 4 and b = 2 so same either way, but should double check.\n",
    "    return wht"
   ]
  },
  {
   "cell_type": "code",
   "execution_count": 40,
   "metadata": {
    "scrolled": false
   },
   "outputs": [
    {
     "name": "stdout",
     "output_type": "stream",
     "text": [
      "cutoff: 0.004\n",
      "-----\n",
      "the measurement matrix\n",
      "[[ 8.02112184e+00  9.19434598e-03  2.00325922e+01  3.99585382e+00]\n",
      " [-7.97038448e+00  1.34593863e-02 -1.19745510e+01  4.02814046e+00]\n",
      " [ 8.01791185e+00 -1.50235490e-02 -1.20055307e+01  3.99834713e+00]\n",
      " [ 8.02112184e+00 -9.19434598e-03  2.00325922e+01 -3.99585382e+00]\n",
      " [-7.97038448e+00 -1.34593863e-02  1.19745510e+01  4.02814046e+00]]\n",
      "[[ 2.20792962e-02  2.40123377e+01  4.01403411e+00  4.01031107e+00]\n",
      " [ 2.96072023e-02  2.40131323e+01 -4.04305789e+00  4.03713156e+00]\n",
      " [ 2.96072023e-02 -2.40131323e+01 -4.04305789e+00 -4.03713156e+00]\n",
      " [-1.48804645e-02 -7.98299617e+00 -4.00278223e+00  3.97584798e+00]\n",
      " [ 2.20792962e-02 -2.40123377e+01 -4.01403411e+00  4.01031107e+00]]\n",
      "(0, 0) 0.002967085989121831\n",
      "amplitude: 8.000184894973192\n",
      "(0, 2) 77.71949222547653\n",
      "(0, 3) 0.0011914854877974298\n",
      "amplitude: 4.009267140262828\n",
      "(1, 1) 205.56202272738656\n",
      "(1, 2) 0.0013733972311139443\n",
      "amplitude: 4.023393246405985\n",
      "(1, 3) 0.002552823272225637\n",
      "amplitude: 4.014146645982179\n",
      "singletons:\n",
      "\t((0, 0), (array([0, 1, 0, 0]), 8.000184894973192, 1.0)) 4\n",
      "\n",
      "\t((0, 3), (array([1, 1, 1, 1]), 4.009267140262828, 1.0)) 15\n",
      "\n",
      "\t((1, 2), (array([1, 0, 1, 0]), 4.023393246405985, 1.0)) 10\n",
      "\n",
      "\t((1, 3), (array([1, 1, 1, 1]), 4.014146645982179, 1.0)) 15\n",
      "\n",
      "Multitons : [(0, 2), (1, 1)]\n",
      "\n",
      "these balls will be peeled\n",
      "{10, 4, 15}\n",
      "this is subtracted:\n",
      "[ 4.02339325  4.02339325  4.02339325  4.02339325 -4.02339325]\n",
      "Peeled ball 10 off bin (0, 2)\n",
      "this is subtracted:\n",
      "[ 4.02339325 -4.02339325 -4.02339325 -4.02339325 -4.02339325]\n",
      "Peeled ball 10 off bin (1, 2)\n",
      "this is subtracted:\n",
      "[ 8.00018489 -8.00018489  8.00018489  8.00018489 -8.00018489]\n",
      "Peeled ball 4 off bin (0, 0)\n",
      "this is subtracted:\n",
      "[ 8.00018489  8.00018489 -8.00018489  8.00018489 -8.00018489]\n",
      "Peeled ball 4 off bin (1, 1)\n",
      "this is subtracted:\n",
      "[ 4.01414665  4.01414665  4.01414665 -4.01414665  4.01414665]\n",
      "Peeled ball 15 off bin (0, 3)\n",
      "this is subtracted:\n",
      "[ 4.01414665  4.01414665 -4.01414665  4.01414665  4.01414665]\n",
      "Peeled ball 15 off bin (1, 3)\n",
      "-----\n",
      "the measurement matrix\n",
      "[[ 2.09369406e-02  9.19434598e-03  1.60091989e+01 -1.82928241e-02]\n",
      " [ 2.98004194e-02  1.34593863e-02 -1.59979443e+01  1.39938175e-02]\n",
      " [ 1.77269576e-02 -1.50235490e-02 -1.60289239e+01 -1.57995154e-02]\n",
      " [ 2.09369406e-02 -9.19434598e-03  1.60091989e+01  1.82928241e-02]\n",
      " [ 2.98004194e-02 -1.34593863e-02  1.59979443e+01  1.39938175e-02]]\n",
      "[[ 2.20792962e-02  1.60121528e+01 -9.35913296e-03 -3.83558056e-03]\n",
      " [ 2.96072023e-02  1.60129474e+01 -1.96646428e-02  2.29849119e-02]\n",
      " [ 2.96072023e-02 -1.60129474e+01 -1.96646428e-02 -2.29849119e-02]\n",
      " [-1.48804645e-02 -1.59831811e+01  2.06110198e-02 -3.82986627e-02]\n",
      " [ 2.20792962e-02 -1.60121528e+01  9.35913296e-03 -3.83558056e-03]]\n",
      "(0, 2) 0.0006408579881632247\n",
      "amplitude: 16.008642076309975\n",
      "(1, 1) 0.0006906647794225199\n",
      "amplitude: 16.006676313044995\n",
      "singletons:\n",
      "\t((0, 2), (array([0, 1, 1, 0]), 16.008642076309975, 1.0)) 6\n",
      "\n",
      "\t((1, 1), (array([0, 1, 1, 0]), 16.006676313044995, 1.0)) 6\n",
      "\n",
      "Multitons : []\n",
      "\n",
      "these balls will be peeled\n",
      "{6}\n",
      "this is subtracted:\n",
      "[ 16.00667631 -16.00667631 -16.00667631  16.00667631  16.00667631]\n",
      "Peeled ball 6 off bin (0, 2)\n",
      "this is subtracted:\n",
      "[ 16.00667631  16.00667631 -16.00667631 -16.00667631 -16.00667631]\n",
      "Peeled ball 6 off bin (1, 1)\n"
     ]
    },
    {
     "data": {
      "text/plain": [
       "<StemContainer object of 3 artists>"
      ]
     },
     "execution_count": 40,
     "metadata": {},
     "output_type": "execute_result"
    },
    {
     "data": {
      "image/png": "[encoded data removed]",
      "text/plain": [
       "<Figure size 432x288 with 1 Axes>"
      ]
     },
     "metadata": {
      "needs_background": "light"
     },
     "output_type": "display_data"
    }
   ],
   "source": [
    "decoded = decode(input_signal, [M1, M2], verbose=True)\n",
    "plt.stem(decoded, use_line_collection=True)"
   ]
  },
  {
   "cell_type": "code",
   "execution_count": 43,
   "metadata": {},
   "outputs": [],
   "source": [
    "decoded_noiseless = decode(noiseless_signal, [M1, M2])"
   ]
  },
  {
   "cell_type": "code",
   "execution_count": 44,
   "metadata": {},
   "outputs": [],
   "source": [
    "assert np.allclose(decoded_noiseless, noiseless_signal.signal_w)"
   ]
  },
  {
   "cell_type": "code",
   "execution_count": 45,
   "metadata": {},
   "outputs": [
    {
     "data": {
      "text/plain": [
       "0.00010325126370091587"
      ]
     },
     "execution_count": 45,
     "metadata": {},
     "output_type": "execute_result"
    }
   ],
   "source": [
    "res = decoded - input_signal.signal_w\n",
    "np.inner(res, res) # should be small"
   ]
  },
  {
   "cell_type": "markdown",
   "metadata": {},
   "source": [
    "1. Naive noisy (Maximum likelihood). Requires taking random delays and going through all the possible locations mapping to a bin, creating signatures, and decoding by MLE (take an argmax). This is good in sample complexity, but bad in time complexity.\n",
    "2. SO-SPRIGHT with BCH, or with different types of codes (up to me). Need a good binary symmetric channel code (n, k, d).\n",
    "\n",
    "Codes come with three parameters: \n",
    "- n: length of codeword, in this setting = number of delays\n",
    "- k: length of thing to be recovered. Say signal length is 2^m then k = m.\n",
    "- d: minimum distance. Can tolerate (d + 1) / 2 errors.\n",
    "\n",
    "In our problem m is given; can make it larger but not smaller. Say the SNR is changing. Need to look for codes where n increases but k stays the same.\n",
    "\n",
    "BCH may have specific lengths, adjust the signal length to fit that. Don't zero-pad for now.\n",
    "BCH should work for small noise."
   ]
  },
  {
   "cell_type": "markdown",
   "metadata": {},
   "source": [
    "**References**\n",
    "\n",
    "[1] Li, X., Ramchandran, K. (2015). An Active Learning Framework using Sparse-Graph Codes for Sparse Polynomials and Graph Sketching. NeurIPS, http://papers.neurips.cc/paper/5697-an-active-learning-framework-using-sparse-graph-codes-for-sparse-polynomials-and-graph-sketching.pdf\n",
    "\n",
    "[2] Li, X., Bradley, J., Pawar, S., Ramchandran, K. (2015). SPRIGHT: A Fast and Robust Framework for Sparse Walsh-Hadamard Transform. arXiv.org. cs.IT. https://arxiv.org/abs/1508.06336"
   ]
  }
 ],
 "metadata": {
  "kernelspec": {
   "display_name": "Python 3",
   "language": "python",
   "name": "python3"
  },
  "language_info": {
   "codemirror_mode": {
    "name": "ipython",
    "version": 3
   },
   "file_extension": ".py",
   "mimetype": "text/x-python",
   "name": "python",
   "nbconvert_exporter": "python",
   "pygments_lexer": "ipython3",
   "version": "3.7.7"
  }
 },
 "nbformat": 4,
 "nbformat_minor": 4
}
