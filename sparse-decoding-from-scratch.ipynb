{
 "cells": [
  {
   "cell_type": "markdown",
   "metadata": {},
   "source": [
    "# Aim\n",
    "\n",
    "To understand the sparse decoding algorithm from scratch, this is a full implementation of the algorithm just off the paper (Ramchandran-papers.nips.cc-2015).\n",
    "\n",
    "A lot of things should be vectorizable, but the dimensions aren't happy with that so I'll just ignore it. So there may be slight inefficiencies here."
   ]
  },
  {
   "cell_type": "code",
   "execution_count": 1,
   "metadata": {},
   "outputs": [],
   "source": [
    "import numpy as np\n",
    "from matplotlib import pyplot as plt\n",
    "import itertools\n",
    "%matplotlib inline"
   ]
  },
  {
   "cell_type": "code",
   "execution_count": 2,
   "metadata": {},
   "outputs": [],
   "source": [
    "def myfwht(x):\n",
    "    \"\"\"Recursive implementation of the 1D Cooley-Tukey FFT\"\"\"\n",
    "    # x = np.asarray(x, dtype=float)\n",
    "    N = x.shape[0]\n",
    "    if N == 1:\n",
    "        return x\n",
    "    else:\n",
    "        X_even = myfwht(x[0:(N//2)])\n",
    "        X_odd = myfwht(x[(N//2):])\n",
    "        return np.concatenate([(X_even + X_odd),\n",
    "                               (X_even - X_odd)])\n",
    "    \n",
    "def bin_to_dec(x):\n",
    "    n = len(x)\n",
    "    c = 2**(np.arange(n)[::-1])\n",
    "    return c.dot(x).astype(np.int)\n",
    "\n",
    "def dec_to_bin(x, num_bits):\n",
    "    assert x < 2**num_bits, \"number of bits are not enough\"\n",
    "    u = bin(x)[2:].zfill(num_bits)\n",
    "    u = list(u)\n",
    "    u = [int(i) for i in u]\n",
    "    return np.array(u)"
   ]
  },
  {
   "cell_type": "code",
   "execution_count": 3,
   "metadata": {},
   "outputs": [],
   "source": [
    "def make_input_signal(n, loc, strengths, noise_sd):\n",
    "    '''\n",
    "    Arguments\n",
    "    ---------\n",
    "    n : int\n",
    "    number of bits\n",
    "    \n",
    "    loc : iterable\n",
    "    Locations of peaks in the W-H spectrum. Elements must be integers in [0, 2 ** n - 1].\n",
    "    \n",
    "    strengths : iterable\n",
    "    The strength of each peak in the W-H spectrum. Defaults to all 1s. Dimension has to match that of loc.\n",
    "    \n",
    "    noise_sd : scalar\n",
    "    The SD of the added noise.\n",
    "    \n",
    "    Returns\n",
    "    -------\n",
    "    input_signal : numpy.ndarray\n",
    "    The time signal.\n",
    "    \n",
    "    input_wht : numpy.ndarray\n",
    "    The WHT of input_signal.\n",
    "    '''\n",
    "    N = 2 ** n\n",
    "    if strengths is None:\n",
    "        strengths = np.ones_like(loc)\n",
    "    input_wht = np.zeros((N,))\n",
    "    for l, s in zip(loc, strengths):\n",
    "        input_wht[l] = s\n",
    "    input_signal = myfwht(input_wht) + np.random.normal(0, noise_sd, (N,))\n",
    "    return input_signal, myfwht(input_signal) / N\n",
    "\n",
    "class InputSignal:\n",
    "    def __init__(self, n, loc, strengths=None, noise_sd=0):\n",
    "        self.n = n\n",
    "        self.noise_sd = noise_sd\n",
    "        self.signal_t, self.signal_w = make_input_signal(n, loc, strengths, noise_sd)\n"
   ]
  },
  {
   "cell_type": "code",
   "execution_count": 4,
   "metadata": {},
   "outputs": [
    {
     "data": {
      "image/png": "[encoded data removed]",
      "text/plain": [
       "<Figure size 720x216 with 2 Axes>"
      ]
     },
     "metadata": {
      "needs_background": "light"
     },
     "output_type": "display_data"
    }
   ],
   "source": [
    "# verify that this works just like Orhan's\n",
    "# make signal and plot it\n",
    "input_signal = InputSignal(4, [4, 6, 10, 15], strengths=[2, 4, 1, 1], noise_sd=0.01)\n",
    "fig, axs = plt.subplots(1,2, figsize=(10,3))\n",
    "\n",
    "axs[0].plot(input_signal.signal_w)\n",
    "axs[0].set_title('WHT')\n",
    "\n",
    "axs[1].plot(input_signal.signal_t)\n",
    "axs[1].set_title('time')\n",
    "plt.show()"
   ]
  },
  {
   "cell_type": "code",
   "execution_count": 5,
   "metadata": {},
   "outputs": [],
   "source": [
    "def subsample_indices(b, M, d):\n",
    "    '''\n",
    "    Query generator: creates indices for signal subsamples.\n",
    "    \n",
    "    Arguments\n",
    "    ---------\n",
    "    b : int\n",
    "    The subsampling coefficient; subject to b <= n = log2(N).\n",
    "    \n",
    "    M : numpy.ndarray, shape (n, b)\n",
    "    The subsampling matrix; takes on binary values.\n",
    "    \n",
    "    d : numpy.ndarray, shape (n,)\n",
    "    The subsampling offset; takes on binary values.\n",
    "    \n",
    "    Returns\n",
    "    -------\n",
    "    indices : numpy.ndarray, shape (B,)\n",
    "    The (decimal) subsample indices. Mostly for debugging purposes.\n",
    "    \n",
    "    subsamples : numpy.ndarray, shape (B,)\n",
    "    The subsampled time signal.\n",
    "    '''\n",
    "    B = 2 ** b\n",
    "    L = np.array(list(map(list, itertools.product([0, 1], repeat=b)))).T\n",
    "    indices = bin_to_dec(np.mod(np.dot(M, L).T + d, 2).T)\n",
    "    return indices"
   ]
  },
  {
   "cell_type": "code",
   "execution_count": 6,
   "metadata": {},
   "outputs": [],
   "source": [
    "# implementing the example in the paper section 2.2\n",
    "\n",
    "M1 = np.vstack((np.zeros((2,2)), np.eye(2)))\n",
    "M2 = np.vstack((np.eye(2), np.zeros((2,2))))"
   ]
  },
  {
   "cell_type": "code",
   "execution_count": 7,
   "metadata": {},
   "outputs": [],
   "source": [
    "# check linear combinations of subsampling\n",
    "M1_subsampled_wht = myfwht(input_signal.signal_t[subsample_indices(2, M1, np.zeros(4,))]) / 4\n",
    "assert np.allclose(M1_subsampled_wht, np.array([np.sum([input_signal.signal_w[i::4]]) for i in range(4)]))"
   ]
  },
  {
   "cell_type": "code",
   "execution_count": 8,
   "metadata": {},
   "outputs": [],
   "source": [
    "def singleton_detection_noiseless(U_slice):\n",
    "    '''\n",
    "    Finds the true index of a singleton, assuming that it is one.\n",
    "    Works on a fixed M, and assumes P = n + 1 and D = [0; I]\n",
    "    \n",
    "    Arguments\n",
    "    ---------\n",
    "    U_slice : numpy.ndarray, (P,).\n",
    "    The WHT component of the subsampled bin we care about, at diff delays.\n",
    "    d[0] is the zero array, I think (is this necessary? probably)\n",
    "    \n",
    "    Returns\n",
    "    -------\n",
    "    k : numpy.ndarray\n",
    "    Index of the corresponding right node, in binary form.\n",
    "    '''\n",
    "    return (-np.sign(U_slice * U_slice[0])[1:]/2 + 1/2).astype(np.int)\n",
    "\n",
    "def singleton_detection(U_slice, selection, S, n):\n",
    "    '''\n",
    "    As in singleton_detection_noiseless, but with noise.\n",
    "    Also returns the sign of the coefficient (as in [2] eq 22.)\n",
    "    \n",
    "    S is only the subset that could be valid, i.e. where M.T @ S = i.\n",
    "    '''\n",
    "    P = S.shape[0]\n",
    "    alphas = (1/P) * np.dot(S.T, U_slice)\n",
    "    residuals = np.linalg.norm(U_slice - (alphas * S).T, ord=2, axis=1)\n",
    "    k = np.argmin(residuals)\n",
    "    return dec_to_bin(selection[k], n), np.sign(alphas[k])"
   ]
  },
  {
   "cell_type": "code",
   "execution_count": 9,
   "metadata": {},
   "outputs": [],
   "source": [
    "D = np.vstack((np.zeros(4,), np.eye(4)))\n",
    "all_delay_subsamples = np.array([input_signal.signal_t[subsample_indices(2, M1, D[i])] for i in range(5)])\n",
    "all_delay_fwht = np.array([myfwht(row) for row in all_delay_subsamples])"
   ]
  },
  {
   "cell_type": "code",
   "execution_count": 10,
   "metadata": {},
   "outputs": [
    {
     "data": {
      "text/plain": [
       "array([[ 7.97582095e+00,  7.86849194e-03,  1.99919743e+01,\n",
       "         4.01773127e+00],\n",
       "       [ 8.03850205e+00, -1.80163879e-02,  1.19893183e+01,\n",
       "        -3.99947513e+00],\n",
       "       [-8.01458985e+00,  5.47655189e-03, -1.19865619e+01,\n",
       "        -4.02036673e+00],\n",
       "       [ 7.97582095e+00,  7.86849194e-03, -1.99919743e+01,\n",
       "        -4.01773127e+00],\n",
       "       [ 7.97582095e+00, -7.86849194e-03,  1.99919743e+01,\n",
       "        -4.01773127e+00]])"
      ]
     },
     "execution_count": 10,
     "metadata": {},
     "output_type": "execute_result"
    }
   ],
   "source": [
    "all_delay_fwht"
   ]
  },
  {
   "cell_type": "code",
   "execution_count": 11,
   "metadata": {},
   "outputs": [
    {
     "data": {
      "text/plain": [
       "(array([0, 1, 0, 0]), 1.0)"
      ]
     },
     "execution_count": 11,
     "metadata": {},
     "output_type": "execute_result"
    }
   ],
   "source": [
    "S_test = (-1) ** (D @ np.array(list(map(list, itertools.product([0, 1], repeat=input_signal.n)))).T)\n",
    "selection_test = [0, 4, 8, 12]\n",
    "singleton_detection(all_delay_fwht[:,0], selection_test, S_test[:, selection_test], input_signal.n) # should be 0, 1, 0, 0"
   ]
  },
  {
   "cell_type": "code",
   "execution_count": 20,
   "metadata": {},
   "outputs": [],
   "source": [
    "def compute_delayed_wht(signal, b, M, num_delays):\n",
    "    '''\n",
    "    Helper function for bin_cardinality. Creates random delays, subsamples according to M and the random delays,\n",
    "    and returns the subsample WHT along with the delays.\n",
    "    '''\n",
    "    if signal.noise_sd > 0:\n",
    "        D = np.vstack((np.zeros(signal.n,), np.random.binomial(1, 0.5, (num_delays - 1, signal.n)))) # create random delays matrix\n",
    "    else:\n",
    "        D = np.vstack((np.zeros(signal.n,), np.eye(signal.n)))\n",
    "    samples_to_transform = signal.signal_t[np.array([subsample_indices(b, M, d) for d in D])] # subsample to allow small WHTs\n",
    "    U = np.array([myfwht(row) for row in samples_to_transform]) # compute the small WHTs\n",
    "    return U, D\n",
    "\n",
    "def bin_cardinality(signal, M, num_delays=None):\n",
    "    '''\n",
    "    Computes delayed WHT observations and declares cardinality based on that.\n",
    "    2 is a stand-in for any cardinality > 1. (Bad design, but I can't think\n",
    "    of a better way)\n",
    "    \n",
    "    Arguments\n",
    "    ---------\n",
    "    signal : InputSignal\n",
    "    The input signal object.\n",
    "\n",
    "    b : int\n",
    "    M : numpy.ndarray\n",
    "    \n",
    "    As in the signature to subsample_indices.\n",
    "    \n",
    "    num_delays : int\n",
    "    The number of delays to apply; or, the number of rows in the delays matrix.\n",
    "\n",
    "    Returns\n",
    "    -------\n",
    "    cardinality : numpy.ndarray\n",
    "    0 or 1 if the bin is a zeroton or singleton resp.; 2 if multiton.\n",
    "    \n",
    "    singleton_indices : list\n",
    "    A list (in decimal form for compactness) of the k values of the singletons. \n",
    "    Length matches the number of 1s in cardinality.\n",
    "    '''\n",
    "    b = M.shape[1]\n",
    "    if num_delays is None:\n",
    "        num_delays = signal.n + 1\n",
    "    U, D = compute_delayed_wht(signal, b, M, num_delays)\n",
    "    cardinality = np.ones((signal.n,), dtype=np.int) # vector of indicators\n",
    "    singleton_indices = []\n",
    "    cutoff = 2 * signal.noise_sd ** 2 * (2 ** (signal.n - b)) * num_delays\n",
    "    if signal.noise_sd > 0:\n",
    "        K = np.array(list(map(list, itertools.product([0, 1], repeat=signal.n)))).T\n",
    "        S = (-1) ** (D @ K)\n",
    "    for i, col in enumerate(U.T):\n",
    "        sgn = 1\n",
    "        print(\"Column:   \", col)\n",
    "        # <col, col> = |col|^2 = |U|^2\n",
    "        if np.inner(col, col) <= cutoff:\n",
    "            cardinality[i] = 0\n",
    "        else:\n",
    "            if signal.noise_sd == 0:\n",
    "                k = singleton_detection_noiseless(col)\n",
    "            else:\n",
    "                selection = np.where([bin_to_dec(row) == i for row in (M.T.dot(K)).T])[0]\n",
    "                k, sgn = singleton_detection(col, selection, S[:, selection], signal.n)\n",
    "            rho = np.mean(np.abs(col))\n",
    "            residual = col - sgn * rho * (-1) ** np.dot(D, k)\n",
    "            print(\"Residual: \", residual)\n",
    "            if np.inner(residual, residual) > cutoff:\n",
    "                cardinality[i] = 2\n",
    "            else:\n",
    "                singleton_indices.append(bin_to_dec(k))\n",
    "                print(\"Slice {0} has k = {1}\".format(i, k))\n",
    "    return cardinality, singleton_indices\n"
   ]
  },
  {
   "cell_type": "code",
   "execution_count": 21,
   "metadata": {},
   "outputs": [
    {
     "name": "stdout",
     "output_type": "stream",
     "text": [
      "Column:    [ 7.97582095 -8.01270305  8.03850205  8.03850205 -8.01458985]\n",
      "Residual:  [-0.04020264  0.00332054  0.02247846  0.02247846  0.00143373]\n",
      "Slice 0 has k = [0 1 0 0]\n",
      "Column:    [ 0.00786849 -0.03090366 -0.01801639 -0.01801639 -0.00547655]\n",
      "Column:    [ 19.99197433  19.96698202  11.9893183  -11.9893183   11.98656187]\n",
      "Residual:  [ 4.80714337  4.78215105 -3.19551266  3.19551266 -3.1982691 ]\n",
      "Column:    [ 4.01773127 -3.99702057 -3.99947513  3.99947513 -4.02036673]\n",
      "Residual:  [ 0.01091751  0.00979319  0.00733864 -0.00733864 -0.01355296]\n",
      "Slice 3 has k = [1 1 1 1]\n"
     ]
    },
    {
     "data": {
      "text/plain": [
       "(array([1, 0, 2, 1]), [4, 15])"
      ]
     },
     "execution_count": 21,
     "metadata": {},
     "output_type": "execute_result"
    }
   ],
   "source": [
    "bin_cardinality(input_signal, M1) # should be 1, 0, 2, 1; [4, 15]"
   ]
  },
  {
   "cell_type": "code",
   "execution_count": 22,
   "metadata": {},
   "outputs": [
    {
     "name": "stdout",
     "output_type": "stream",
     "text": [
      "Column:    [-0.00647154  0.01386097  0.01386097 -0.01780092 -0.00255842]\n",
      "Column:    [ 24.00833348  23.97989273 -23.97989273  -7.97988593  -7.96672438]\n",
      "Residual:  [ 6.42538763  6.39694688 -6.39694688  9.60305992  9.61622147]\n",
      "Column:    [ 3.99514812  3.96410602 -3.96410602  3.99629952  4.02752252]\n",
      "Residual:  [ 0.00571168 -0.02533042  0.02533042  0.00686308  0.03808608]\n",
      "Slice 2 has k = [1 0 1 0]\n",
      "Column:    [ 3.99638499 -4.01566419 -4.01566419  4.0320298  -3.99051471]\n",
      "Residual:  [-0.01366659 -0.00561262 -0.00561262  0.02197822  0.01953686]\n",
      "Slice 3 has k = [1 1 1 1]\n"
     ]
    },
    {
     "data": {
      "text/plain": [
       "(array([0, 2, 1, 1]), [10, 15])"
      ]
     },
     "execution_count": 22,
     "metadata": {},
     "output_type": "execute_result"
    }
   ],
   "source": [
    "bin_cardinality(input_signal, M2) # should be 0, 2, 1, 1; [10, 15]"
   ]
  },
  {
   "cell_type": "code",
   "execution_count": 15,
   "metadata": {},
   "outputs": [],
   "source": [
    "def decode(signal, Ms, nums_delays=None):\n",
    "    '''\n",
    "    Full SPRIGHT decoding. Implements \n",
    "    '''\n",
    "    true_wht = np.zeros_like(signal.signal_t)\n",
    "    c = len(Ms)\n",
    "    b = Ms[0].shape[1]\n",
    "    Us, Ds = [], []\n",
    "    singletons = {}\n",
    "    multitons = []\n",
    "    if nums_delays is None:\n",
    "        nums_delays = [signal.n + 1] * c\n",
    "    for M, num_delays in zip(Ms, nums_delays):\n",
    "        U, D = compute_delayed_wht(signal, b, M, num_delays)\n",
    "        Us.append(U)\n",
    "        Ds.append(D)\n",
    "    \n",
    "    cutoff = signal.noise_sd ** 2 / (2 ** b) # threshold from [1] section 3.2, but this seems too low?\n",
    "    while True:\n",
    "        singletons = {}\n",
    "        multitons = []\n",
    "        for i, (U, D) in enumerate(zip(Us, Ds)):\n",
    "            for j, col in enumerate(U.T):\n",
    "                if np.inner(col, col) / num_delays >  2 * cutoff:\n",
    "                    k = singleton_detection(col)\n",
    "                    residual = col - col[0] * (-1) ** np.dot(D, k)\n",
    "                    if np.inner(residual, residual) > cutoff:\n",
    "                        multitons.append((i, j))\n",
    "                    else:\n",
    "                        singletons[(i, j)] = k\n",
    "\n",
    "        print(\"Singletons: {0}\\n\".format(singletons))\n",
    "        print(\"Multitons : {0}\\n\".format(multitons))\n",
    "        if len(multitons) == 0:\n",
    "            break\n",
    "        for (i, j) in singletons:\n",
    "            k = singletons[(i, j)]\n",
    "            potential_peels = [(l, bin_to_dec(M.T.dot(k))) for l, M in enumerate(Ms)]\n",
    "            for peel in potential_peels:\n",
    "                if peel in multitons:\n",
    "                    Us[peel[0]][:,peel[1]] -= Us[i][:,j]\n",
    "                    print(\"Peeled {0} at position {1} off multiton {2}\".format(bin_to_dec(k), (i, j), peel))\n",
    "                    \n",
    "    for position in singletons:\n",
    "        idx = bin_to_dec(singletons[position])\n",
    "        val = Us[position[0]][0, position[1]]\n",
    "        if true_wht[idx] == 0:\n",
    "            true_wht[idx] = val\n",
    "        else:\n",
    "            true_wht[idx] = (true_wht[idx] + val) / 2 # average out noise\n",
    "    \n",
    "    true_wht /= 2 ** (signal.n / b)\n",
    "    return true_wht"
   ]
  },
  {
   "cell_type": "code",
   "execution_count": 16,
   "metadata": {},
   "outputs": [
    {
     "ename": "TypeError",
     "evalue": "singleton_detection() missing 3 required positional arguments: 'selection', 'S', and 'n'",
     "output_type": "error",
     "traceback": [
      "\u001b[0;31m---------------------------------------------------------------------------\u001b[0m",
      "\u001b[0;31mTypeError\u001b[0m                                 Traceback (most recent call last)",
      "\u001b[0;32m<ipython-input-16-8c979b52509b>\u001b[0m in \u001b[0;36m<module>\u001b[0;34m\u001b[0m\n\u001b[0;32m----> 1\u001b[0;31m \u001b[0mdecoded\u001b[0m \u001b[0;34m=\u001b[0m \u001b[0mdecode\u001b[0m\u001b[0;34m(\u001b[0m\u001b[0minput_signal\u001b[0m\u001b[0;34m,\u001b[0m \u001b[0;34m[\u001b[0m\u001b[0mM1\u001b[0m\u001b[0;34m,\u001b[0m \u001b[0mM2\u001b[0m\u001b[0;34m]\u001b[0m\u001b[0;34m)\u001b[0m\u001b[0;34m\u001b[0m\u001b[0;34m\u001b[0m\u001b[0m\n\u001b[0m\u001b[1;32m      2\u001b[0m \u001b[0mplt\u001b[0m\u001b[0;34m.\u001b[0m\u001b[0mstem\u001b[0m\u001b[0;34m(\u001b[0m\u001b[0mdecoded\u001b[0m\u001b[0;34m,\u001b[0m \u001b[0muse_line_collection\u001b[0m\u001b[0;34m=\u001b[0m\u001b[0;32mTrue\u001b[0m\u001b[0;34m)\u001b[0m\u001b[0;34m\u001b[0m\u001b[0;34m\u001b[0m\u001b[0m\n",
      "\u001b[0;32m<ipython-input-15-17f1eac95d71>\u001b[0m in \u001b[0;36mdecode\u001b[0;34m(signal, Ms, nums_delays)\u001b[0m\n\u001b[1;32m     23\u001b[0m             \u001b[0;32mfor\u001b[0m \u001b[0mj\u001b[0m\u001b[0;34m,\u001b[0m \u001b[0mcol\u001b[0m \u001b[0;32min\u001b[0m \u001b[0menumerate\u001b[0m\u001b[0;34m(\u001b[0m\u001b[0mU\u001b[0m\u001b[0;34m.\u001b[0m\u001b[0mT\u001b[0m\u001b[0;34m)\u001b[0m\u001b[0;34m:\u001b[0m\u001b[0;34m\u001b[0m\u001b[0;34m\u001b[0m\u001b[0m\n\u001b[1;32m     24\u001b[0m                 \u001b[0;32mif\u001b[0m \u001b[0mnp\u001b[0m\u001b[0;34m.\u001b[0m\u001b[0minner\u001b[0m\u001b[0;34m(\u001b[0m\u001b[0mcol\u001b[0m\u001b[0;34m,\u001b[0m \u001b[0mcol\u001b[0m\u001b[0;34m)\u001b[0m \u001b[0;34m/\u001b[0m \u001b[0mnum_delays\u001b[0m \u001b[0;34m>\u001b[0m  \u001b[0;36m2\u001b[0m \u001b[0;34m*\u001b[0m \u001b[0mcutoff\u001b[0m\u001b[0;34m:\u001b[0m\u001b[0;34m\u001b[0m\u001b[0;34m\u001b[0m\u001b[0m\n\u001b[0;32m---> 25\u001b[0;31m                     \u001b[0mk\u001b[0m \u001b[0;34m=\u001b[0m \u001b[0msingleton_detection\u001b[0m\u001b[0;34m(\u001b[0m\u001b[0mcol\u001b[0m\u001b[0;34m)\u001b[0m\u001b[0;34m\u001b[0m\u001b[0;34m\u001b[0m\u001b[0m\n\u001b[0m\u001b[1;32m     26\u001b[0m                     \u001b[0mresidual\u001b[0m \u001b[0;34m=\u001b[0m \u001b[0mcol\u001b[0m \u001b[0;34m-\u001b[0m \u001b[0mcol\u001b[0m\u001b[0;34m[\u001b[0m\u001b[0;36m0\u001b[0m\u001b[0;34m]\u001b[0m \u001b[0;34m*\u001b[0m \u001b[0;34m(\u001b[0m\u001b[0;34m-\u001b[0m\u001b[0;36m1\u001b[0m\u001b[0;34m)\u001b[0m \u001b[0;34m**\u001b[0m \u001b[0mnp\u001b[0m\u001b[0;34m.\u001b[0m\u001b[0mdot\u001b[0m\u001b[0;34m(\u001b[0m\u001b[0mD\u001b[0m\u001b[0;34m,\u001b[0m \u001b[0mk\u001b[0m\u001b[0;34m)\u001b[0m\u001b[0;34m\u001b[0m\u001b[0;34m\u001b[0m\u001b[0m\n\u001b[1;32m     27\u001b[0m                     \u001b[0;32mif\u001b[0m \u001b[0mnp\u001b[0m\u001b[0;34m.\u001b[0m\u001b[0minner\u001b[0m\u001b[0;34m(\u001b[0m\u001b[0mresidual\u001b[0m\u001b[0;34m,\u001b[0m \u001b[0mresidual\u001b[0m\u001b[0;34m)\u001b[0m \u001b[0;34m>\u001b[0m \u001b[0mcutoff\u001b[0m\u001b[0;34m:\u001b[0m\u001b[0;34m\u001b[0m\u001b[0;34m\u001b[0m\u001b[0m\n",
      "\u001b[0;31mTypeError\u001b[0m: singleton_detection() missing 3 required positional arguments: 'selection', 'S', and 'n'"
     ]
    }
   ],
   "source": [
    "decoded = decode(input_signal, [M1, M2])\n",
    "plt.stem(decoded, use_line_collection=True)"
   ]
  },
  {
   "cell_type": "code",
   "execution_count": null,
   "metadata": {},
   "outputs": [],
   "source": [
    "assert np.allclose(decoded, input_signal.signal_w)"
   ]
  },
  {
   "cell_type": "markdown",
   "metadata": {},
   "source": [
    "1. Naive noisy (Maximum likelihood). Requires taking random delays and going through all the possible locations mapping to a bin, creating signatures, and decoding by MLE (take an argmax). This is good in sample complexity, but bad in time complexity.\n",
    "2. SO-SPRIGHT with BCH, or with different types of codes (up to me). Need a good binary symmetric channel code (n, k, d).\n",
    "\n",
    "Codes come with three parameters: \n",
    "- n: length of codeword, in this setting = number of delays\n",
    "- k: length of thing to be recovered. Say signal length is 2^m then k = m.\n",
    "- d: minimum distance. Can tolerate (d + 1) / 2 errors.\n",
    "\n",
    "In our problem m is given; can make it larger but not smaller. Say the SNR is changing. Need to look for codes where n increases but k stays the same.\n",
    "\n",
    "BCH may have specific lengths, adjust the signal length to fit that. Don't zero-pad for now.\n",
    "BCH should work for small noise."
   ]
  },
  {
   "cell_type": "markdown",
   "metadata": {},
   "source": [
    "**References**\n",
    "\n",
    "[1] Li, X., Ramchandran, K. (2015). An Active Learning Framework using Sparse-Graph Codes for Sparse Polynomials and Graph Sketching. NeurIPS, http://papers.neurips.cc/paper/5697-an-active-learning-framework-using-sparse-graph-codes-for-sparse-polynomials-and-graph-sketching.pdf\n",
    "[2] Li, X., Bradley, J., Pawar, S., Ramchandran, K. (2015). SPRIGHT: A Fast and Robust Framework for Sparse Walsh-Hadamard Transform. arXiv.org. cs.IT()https://arxiv.org/abs/1508.06336"
   ]
  }
 ],
 "metadata": {
  "kernelspec": {
   "display_name": "Python 3",
   "language": "python",
   "name": "python3"
  },
  "language_info": {
   "codemirror_mode": {
    "name": "ipython",
    "version": 3
   },
   "file_extension": ".py",
   "mimetype": "text/x-python",
   "name": "python",
   "nbconvert_exporter": "python",
   "pygments_lexer": "ipython3",
   "version": "3.7.7"
  }
 },
 "nbformat": 4,
 "nbformat_minor": 4
}
