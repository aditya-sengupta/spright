{
 "cells": [
  {
   "cell_type": "code",
   "execution_count": 1,
   "metadata": {},
   "outputs": [],
   "source": [
    "import numpy as np\n",
    "from utils import myfwht, run_many\n",
    "import matplotlib.pyplot as plt"
   ]
  },
  {
   "cell_type": "markdown",
   "metadata": {},
   "source": [
    "- Polynomial has few non-zero coefficients (understood, and utilized)\n",
    "- Each monomial in the polynomial has few variables (low degree)\n",
    "  - Noisy:\n",
    "      - O(nnK) samples (we are here)\n",
    "      - O(dnK) samples\n",
    "      - O(nK) samples"
   ]
  },
  {
   "cell_type": "code",
   "execution_count": 2,
   "metadata": {},
   "outputs": [],
   "source": [
    "class InputSignal:\n",
    "    def __init__(self, n, loc, val=None, noise_std=0):\n",
    "        self.n = n\n",
    "        self.loc = loc\n",
    "        if val is None:\n",
    "            self.val = np.ones_like(self.loc)\n",
    "        else:\n",
    "            self.val = val\n",
    "        self.noise_std = noise_std\n",
    "        \n",
    "        self.x_wht = None\n",
    "        self.x_time = None\n",
    "        \n",
    "    def make_signal(self):\n",
    "        N = 2**n\n",
    "        x_wht    = np.zeros(N)\n",
    "        for i,k in enumerate(self.loc):\n",
    "            x_wht[k] = self.val[i]\n",
    "            \n",
    "        x_time = myfwht(x_wht)\n",
    "        \n",
    "        if self.noise_std != 0:\n",
    "            x_time += self.noise_std*np.random.randn(len(x_time))\n",
    "        \n",
    "        self.x_wht = myfwht(x_time)/N\n",
    "        self.x_time = x_time\n",
    "        \n",
    "    def __getitem__(self, index):\n",
    "        if self.x_time is not None:\n",
    "            return self.x_time[index]\n",
    "        else:\n",
    "            return None\n",
    "        \n",
    "def get_random_sparse_binary_vector(n, k):\n",
    "    u = np.zeros(n, dtype=np.bool)\n",
    "    bit_indices = np.random.choice(n,k)\n",
    "    u[bit_indices] = 1\n",
    "    return u\n",
    "\n",
    "def get_random_binary_vector(n, p=0.5):\n",
    "    a = np.random.binomial(1,p,size=n)\n",
    "    return a\n",
    "\n",
    "def get_random_binary_matrix(m, n, p=0.5):\n",
    "    A = np.random.binomial(1,p,size=(m,n))\n",
    "    return A\n",
    "\n",
    "def dec_to_bin(x, num_bits):\n",
    "    assert x < 2**num_bits, \"number of bits are not enough\"\n",
    "    u = bin(x)[2:].zfill(num_bits)\n",
    "    u = list(u)\n",
    "    u = [int(i) for i in u]\n",
    "    return np.array(u)\n",
    "\n",
    "def bin_to_dec(x):\n",
    "    n = len(x)\n",
    "    c = 2**(np.arange(n)[::-1])\n",
    "    return c.dot(x)\n",
    "\n",
    "def get_sampling_index(x, A, p=0):\n",
    "    \"\"\"\n",
    "    x: sampling index\n",
    "    A: subsampling matrix\n",
    "    p: delay\n",
    "    \"\"\"\n",
    "    num_bits = A.shape[0]\n",
    "    x = dec_to_bin(x, num_bits)\n",
    "    r = x.dot(A) + p\n",
    "    return r % 2\n",
    "\n",
    "def random_delay_pair(num_bits, p):\n",
    "    random_seed = get_random_binary_vector(num_bits)\n",
    "    \n",
    "    return random_seed, (random_seed+p)%2\n",
    "\n",
    "def make_delay_pairs(num_pairs, num_bits):\n",
    "    z = []\n",
    "    # this is the all zeros for finding the sign\n",
    "    # actually we do not need this here because we solve\n",
    "    # a linear system to find the value of the coefficient\n",
    "    # after the location is found -- however, i am going to\n",
    "    # keep this here not to have to change the rest of the code\n",
    "    # that takes delays of this form\n",
    "    z.append(dec_to_bin(0,num_bits))\n",
    "    # go over recovering each bit, we need to recover bits 0 to num_bits-1\n",
    "    for bit_index in range(0, num_bits):\n",
    "        # we have num_pairs many pairs to do majority decoding\n",
    "        for pair_idx in range(num_pairs):\n",
    "            a,b = random_delay_pair(num_bits, bit_index)\n",
    "            z.append(a)\n",
    "            z.append(b)\n",
    "    return z\n",
    "\n",
    "def get_random_measurement_pair(input_signal, n, u):\n",
    "    p0, p1 = random_delay_pair(n, u)\n",
    "    \n",
    "    k0 = bin_to_dec(p0)\n",
    "    k1 = bin_to_dec(p1)\n",
    "    \n",
    "    y0 = input_signal[k0]\n",
    "    y1 = input_signal[k1]\n",
    "    \n",
    "    return y0, y1"
   ]
  },
  {
   "cell_type": "code",
   "execution_count": 3,
   "metadata": {},
   "outputs": [
    {
     "name": "stdout",
     "output_type": "stream",
     "text": [
      "true location: 4096\n",
      "bit true location: [0 0 0 1 0 0 0 0 0 0 0 0 0 0 0 0]\n"
     ]
    }
   ],
   "source": [
    "# number of variables\n",
    "n = 16\n",
    "\n",
    "# true location\n",
    "true_location = 2**(n-4)\n",
    "locations = np.array([true_location])\n",
    "\n",
    "b_true_location = dec_to_bin(true_location, n)\n",
    "print('true location: {}'.format(true_location))\n",
    "print('bit true location: {}'.format(b_true_location))"
   ]
  },
  {
   "cell_type": "code",
   "execution_count": 4,
   "metadata": {},
   "outputs": [
    {
     "data": {
      "image/png": "[encoded data removed]",
      "text/plain": [
       "<Figure size 720x216 with 2 Axes>"
      ]
     },
     "metadata": {
      "needs_background": "light"
     },
     "output_type": "display_data"
    }
   ],
   "source": [
    "# make signal and plot it\n",
    "input_signal = InputSignal(n, locations, noise_std=1)\n",
    "input_signal.make_signal()\n",
    "\n",
    "fig, axs = plt.subplots(1,2, figsize=(10,3))\n",
    "\n",
    "axs[0].plot(input_signal.x_wht)\n",
    "axs[0].set_title('WHT')\n",
    "\n",
    "axs[1].plot(input_signal.x_time)\n",
    "axs[1].set_title('time')\n",
    "plt.show()"
   ]
  },
  {
   "cell_type": "code",
   "execution_count": 5,
   "metadata": {},
   "outputs": [
    {
     "data": {
      "text/plain": [
       "array([-0.0030334 , -0.01125188,  0.00329924, ...,  0.00467275,\n",
       "       -0.00012146,  0.00221273])"
      ]
     },
     "execution_count": 5,
     "metadata": {},
     "output_type": "execute_result"
    }
   ],
   "source": [
    "input_signal.x_wht"
   ]
  },
  {
   "cell_type": "code",
   "execution_count": 6,
   "metadata": {},
   "outputs": [],
   "source": [
    "# n=23, d=3, num rows=11 = Golay Codes"
   ]
  },
  {
   "cell_type": "code",
   "execution_count": 7,
   "metadata": {},
   "outputs": [
    {
     "name": "stdout",
     "output_type": "stream",
     "text": [
      "encoding matrix:\n",
      "[[0 0 0 0 0 0 0 0 1 1 1 1 1 1 1 1]\n",
      " [0 0 0 0 1 1 1 1 0 0 0 0 1 1 1 1]\n",
      " [0 0 1 1 0 0 1 1 0 0 1 1 0 0 1 1]\n",
      " [0 1 0 1 0 1 0 1 0 1 0 1 0 1 0 1]]\n",
      "true syndrome of the location:\n",
      "[0 0 1 1]\n"
     ]
    }
   ],
   "source": [
    "# encoding matrix\n",
    "H = list(map(lambda x:dec_to_bin(x,4), np.arange(n)))\n",
    "H = np.vstack(H).T\n",
    "print('encoding matrix:')\n",
    "print(H)\n",
    "\n",
    "true_syndrome = H.dot(b_true_location)\n",
    "print('true syndrome of the location:')\n",
    "print(true_syndrome)"
   ]
  },
  {
   "cell_type": "code",
   "execution_count": 8,
   "metadata": {},
   "outputs": [
    {
     "data": {
      "text/plain": [
       "array([[1, 0, 0, 0, 0, 0, 0, 0, 0, 0, 0, 0, 0, 0, 0, 0],\n",
       "       [0, 1, 0, 0, 0, 0, 0, 0, 0, 0, 0, 0, 0, 0, 0, 0],\n",
       "       [0, 0, 1, 0, 0, 0, 0, 0, 0, 0, 0, 0, 0, 0, 0, 0],\n",
       "       [0, 0, 0, 1, 0, 0, 0, 0, 0, 0, 0, 0, 0, 0, 0, 0],\n",
       "       [0, 0, 0, 0, 1, 0, 0, 0, 0, 0, 0, 0, 0, 0, 0, 0],\n",
       "       [0, 0, 0, 0, 0, 1, 0, 0, 0, 0, 0, 0, 0, 0, 0, 0],\n",
       "       [0, 0, 0, 0, 0, 0, 1, 0, 0, 0, 0, 0, 0, 0, 0, 0],\n",
       "       [0, 0, 0, 0, 0, 0, 0, 1, 0, 0, 0, 0, 0, 0, 0, 0],\n",
       "       [0, 0, 0, 0, 0, 0, 0, 0, 1, 0, 0, 0, 0, 0, 0, 0],\n",
       "       [0, 0, 0, 0, 0, 0, 0, 0, 0, 1, 0, 0, 0, 0, 0, 0],\n",
       "       [0, 0, 0, 0, 0, 0, 0, 0, 0, 0, 1, 0, 0, 0, 0, 0],\n",
       "       [0, 0, 0, 0, 0, 0, 0, 0, 0, 0, 0, 1, 0, 0, 0, 0],\n",
       "       [0, 0, 0, 0, 0, 0, 0, 0, 0, 0, 0, 0, 1, 0, 0, 0],\n",
       "       [0, 0, 0, 0, 0, 0, 0, 0, 0, 0, 0, 0, 0, 1, 0, 0],\n",
       "       [0, 0, 0, 0, 0, 0, 0, 0, 0, 0, 0, 0, 0, 0, 1, 0],\n",
       "       [0, 0, 0, 0, 0, 0, 0, 0, 0, 0, 0, 0, 0, 0, 0, 1]])"
      ]
     },
     "execution_count": 8,
     "metadata": {},
     "output_type": "execute_result"
    }
   ],
   "source": [
    "np.eye(n, dtype=np.int)"
   ]
  },
  {
   "cell_type": "code",
   "execution_count": 9,
   "metadata": {},
   "outputs": [
    {
     "name": "stdout",
     "output_type": "stream",
     "text": [
      "true bit: 0\n",
      "----\n",
      "y0: 0.38 \t y1: 0.27 \t bit_est(0+ and 1-): 0.10232248402094947\n",
      "y0: -2.15 \t y1: -1.52 \t bit_est(0+ and 1-): 3.260557149350418\n",
      "y0: -0.82 \t y1: -0.74 \t bit_est(0+ and 1-): 0.6092819036060407\n",
      "y0: -0.31 \t y1: 0.79 \t bit_est(0+ and 1-): -0.24621978138814185\n",
      "y0: -0.31 \t y1: 1.38 \t bit_est(0+ and 1-): -0.4221410994677761\n",
      "y0: -0.43 \t y1: -1.57 \t bit_est(0+ and 1-): 0.6666848550055599\n",
      "y0: 0.45 \t y1: 1.19 \t bit_est(0+ and 1-): 0.5410625145572425\n",
      "y0: 0.75 \t y1: -0.81 \t bit_est(0+ and 1-): -0.605263469933303\n",
      "y0: 0.24 \t y1: -2.68 \t bit_est(0+ and 1-): -0.6405173010113472\n",
      "y0: -2.42 \t y1: -0.48 \t bit_est(0+ and 1-): 1.1630886007512937\n"
     ]
    }
   ],
   "source": [
    "# u: true location\n",
    "# r: random location\n",
    "# v: a chosen shift\n",
    "# x[n] = (-1)^<u,n>\n",
    "# y0: x[r] = (-1)^<u,r> + noise\n",
    "# y1: x[r+v] = (-1)^<u,r+v> = x[r](-1)^<u,v> + noise\n",
    "# x[r+v]/x[r] = (-1)^<u,v> \n",
    "bit_index_to_estimate = 0\n",
    "\n",
    "print('true bit: {}'.format(true_syndrome[bit_index_to_estimate]))\n",
    "print('----')\n",
    "\n",
    "for i in range(10):\n",
    "    y0, y1 = get_random_measurement_pair(input_signal, n, H[bit_index_to_estimate])\n",
    "    print('y0: {0:.2f} \\t y1: {1:.2f} \\t bit_est(0+ and 1-): {2}'.format(y0, y1, y0*y1))\n",
    "    "
   ]
  },
  {
   "cell_type": "code",
   "execution_count": 10,
   "metadata": {},
   "outputs": [],
   "source": [
    "def estimate_syndrome(input_signal, n, u, num_times):\n",
    "    r = []\n",
    "    for i in range(num_times):\n",
    "        y0, y1 = get_random_measurement_pair(input_signal, n, u)\n",
    "        r.append(np.sign(y0*y1))\n",
    "    r = np.mean(r)\n",
    "    return r"
   ]
  },
  {
   "cell_type": "code",
   "execution_count": 11,
   "metadata": {},
   "outputs": [
    {
     "data": {
      "text/plain": [
       "1.0"
      ]
     },
     "execution_count": 11,
     "metadata": {},
     "output_type": "execute_result"
    }
   ],
   "source": [
    "estimate_syndrome(input_signal, n, H[0], 1)"
   ]
  },
  {
   "cell_type": "code",
   "execution_count": 12,
   "metadata": {
    "scrolled": false
   },
   "outputs": [
    {
     "data": {
      "application/vnd.jupyter.widget-view+json": {
       "model_id": "4e492bac081a45b78ed6b8fcbb194e46",
       "version_major": 2,
       "version_minor": 0
      },
      "text/plain": [
       "HBox(children=(IntProgress(value=0, max=10000), HTML(value='')))"
      ]
     },
     "metadata": {},
     "output_type": "display_data"
    },
    {
     "name": "stdout",
     "output_type": "stream",
     "text": [
      "\n"
     ]
    }
   ],
   "source": [
    "num_test = 10000\n",
    "bit_index_to_estimate = 0\n",
    "r = run_many(estimate_syndrome, \n",
    "             num_test, \n",
    "             input_signal=input_signal, \n",
    "             n=n, \n",
    "             u=H[bit_index_to_estimate], \n",
    "             num_times=11)"
   ]
  },
  {
   "cell_type": "code",
   "execution_count": 13,
   "metadata": {},
   "outputs": [
    {
     "name": "stdout",
     "output_type": "stream",
     "text": [
      "syndrome estimation error probability: 4.72%\n"
     ]
    }
   ],
   "source": [
    "r = np.array(r)\n",
    "r_bit = r < 0\n",
    "error_indices = r_bit != true_syndrome[bit_index_to_estimate]\n",
    "print('syndrome estimation error probability: {}%'.format(np.mean(error_indices)*100))"
   ]
  },
  {
   "cell_type": "code",
   "execution_count": 14,
   "metadata": {},
   "outputs": [
    {
     "data": {
      "application/vnd.jupyter.widget-view+json": {
       "model_id": "7f16266dfbcc4ae5a87213baca4c9527",
       "version_major": 2,
       "version_minor": 0
      },
      "text/plain": [
       "HBox(children=(IntProgress(value=0, max=10000), HTML(value='')))"
      ]
     },
     "metadata": {},
     "output_type": "display_data"
    },
    {
     "name": "stdout",
     "output_type": "stream",
     "text": [
      "\n"
     ]
    },
    {
     "data": {
      "application/vnd.jupyter.widget-view+json": {
       "model_id": "ccdd837a59214531bb56f7c597df1342",
       "version_major": 2,
       "version_minor": 0
      },
      "text/plain": [
       "HBox(children=(IntProgress(value=0, max=10000), HTML(value='')))"
      ]
     },
     "metadata": {},
     "output_type": "display_data"
    },
    {
     "name": "stdout",
     "output_type": "stream",
     "text": [
      "\n"
     ]
    },
    {
     "data": {
      "application/vnd.jupyter.widget-view+json": {
       "model_id": "b22e32dfba784bd78c56bbf1de745b0a",
       "version_major": 2,
       "version_minor": 0
      },
      "text/plain": [
       "HBox(children=(IntProgress(value=0, max=10000), HTML(value='')))"
      ]
     },
     "metadata": {},
     "output_type": "display_data"
    },
    {
     "name": "stdout",
     "output_type": "stream",
     "text": [
      "\n"
     ]
    },
    {
     "data": {
      "application/vnd.jupyter.widget-view+json": {
       "model_id": "d85f394e4a2843c58fbde1b1d85aca4f",
       "version_major": 2,
       "version_minor": 0
      },
      "text/plain": [
       "HBox(children=(IntProgress(value=0, max=10000), HTML(value='')))"
      ]
     },
     "metadata": {},
     "output_type": "display_data"
    },
    {
     "name": "stdout",
     "output_type": "stream",
     "text": [
      "\n"
     ]
    },
    {
     "data": {
      "application/vnd.jupyter.widget-view+json": {
       "model_id": "bf3f3f67245c4483ba2fa7d208818fe6",
       "version_major": 2,
       "version_minor": 0
      },
      "text/plain": [
       "HBox(children=(IntProgress(value=0, max=10000), HTML(value='')))"
      ]
     },
     "metadata": {},
     "output_type": "display_data"
    },
    {
     "name": "stdout",
     "output_type": "stream",
     "text": [
      "\n"
     ]
    },
    {
     "data": {
      "application/vnd.jupyter.widget-view+json": {
       "model_id": "76a4027da3a94832bdb44d329409f1ee",
       "version_major": 2,
       "version_minor": 0
      },
      "text/plain": [
       "HBox(children=(IntProgress(value=0, max=10000), HTML(value='')))"
      ]
     },
     "metadata": {},
     "output_type": "display_data"
    },
    {
     "name": "stdout",
     "output_type": "stream",
     "text": [
      "\n"
     ]
    },
    {
     "data": {
      "application/vnd.jupyter.widget-view+json": {
       "model_id": "f5ad69714fca4368bdc9b3125c603ca5",
       "version_major": 2,
       "version_minor": 0
      },
      "text/plain": [
       "HBox(children=(IntProgress(value=0, max=10000), HTML(value='')))"
      ]
     },
     "metadata": {},
     "output_type": "display_data"
    },
    {
     "name": "stdout",
     "output_type": "stream",
     "text": [
      "\n"
     ]
    }
   ],
   "source": [
    "num_times_vec = np.arange(1,15,2)\n",
    "error_freq_vec = []\n",
    "num_test = 10000\n",
    "bit_index_to_estimate = 0\n",
    "\n",
    "# go over different number of times\n",
    "for num_times in num_times_vec:\n",
    "    # run syndrome estimation simulations\n",
    "    r = run_many(estimate_syndrome, \n",
    "                 num_test, \n",
    "                 input_signal=input_signal, \n",
    "                 n=n, \n",
    "                 u=H[bit_index_to_estimate], \n",
    "                 num_times=num_times)\n",
    "    # calculate the error frequency\n",
    "    r = np.array(r)\n",
    "    r_bit = r < 0\n",
    "    error_indices = r_bit != true_syndrome[bit_index_to_estimate]\n",
    "    error_freq = np.mean(error_indices)\n",
    "    error_freq_vec.append(error_freq)\n",
    "error_freq_vec = np.array(error_freq_vec)\n",
    "    "
   ]
  },
  {
   "cell_type": "code",
   "execution_count": 15,
   "metadata": {},
   "outputs": [
    {
     "data": {
      "image/png": "[encoded data removed]",
      "text/plain": [
       "<Figure size 432x288 with 1 Axes>"
      ]
     },
     "metadata": {
      "needs_background": "light"
     },
     "output_type": "display_data"
    }
   ],
   "source": [
    "plt.semilogy(num_times_vec, error_freq_vec)\n",
    "plt.xlabel('num samples per syndrome bit')\n",
    "plt.ylabel('error rate')\n",
    "plt.show()"
   ]
  },
  {
   "cell_type": "code",
   "execution_count": null,
   "metadata": {},
   "outputs": [],
   "source": []
  }
 ],
 "metadata": {
  "kernelspec": {
   "display_name": "Python 3",
   "language": "python",
   "name": "python3"
  },
  "language_info": {
   "codemirror_mode": {
    "name": "ipython",
    "version": 3
   },
   "file_extension": ".py",
   "mimetype": "text/x-python",
   "name": "python",
   "nbconvert_exporter": "python",
   "pygments_lexer": "ipython3",
   "version": "3.6.9"
  }
 },
 "nbformat": 4,
 "nbformat_minor": 2
}
